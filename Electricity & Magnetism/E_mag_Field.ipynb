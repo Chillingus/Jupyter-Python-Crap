{
 "cells": [
  {
   "cell_type": "code",
   "execution_count": 50,
   "metadata": {},
   "outputs": [
    {
     "name": "stdout",
     "output_type": "stream",
     "text": [
      "Coil Field: 5.23296620169328e-06 T\n",
      "Earth Field: 1.9529695739010046e-05 T\n",
      "Coil Field: 9.92330948758598e-06 T\n",
      "Earth Field: 1.71876762117292e-05 T\n",
      "Coil Field: 1.7334200543108992e-05 T\n",
      "Earth Field: 1.7334200543108995e-05 T\n",
      "Coil Field: 3.055041347863548e-05 T\n",
      "Earth Field: 1.7638289445744573e-05 T\n",
      "Coil Field: 6.72703751780173e-05 T\n",
      "Earth Field: 1.8025042703488377e-05 T\n",
      "Average B_t: 1.794298092861624e-05 T\n"
     ]
    }
   ],
   "source": [
    "import math\n",
    "import numpy as np\n",
    "from matplotlib import pyplot as plt\n",
    "\n",
    "\n",
    "I = [7.04, 13.35, 23.32, 41.1, 90.5]\n",
    "t1 = [15,30,45,60,75]\n",
    "\n",
    "I_1 = 7.04\n",
    "\n",
    "m = (4*math.pi)*(10**(-7))\n",
    "\n",
    "N = 124\n",
    "\n",
    "R = 0.15\n",
    "\n",
    "ligma = 0\n",
    "\n",
    "for i in range(len(I)) and range(len(t1)):\n",
    "        \n",
    "        B_z = (8*m*N*((I[i])*(10**(-3))))/((5*math.sqrt(5))*R)\n",
    "\n",
    "        B_t = B_z / math.tan(math.radians(t1[i]))\n",
    "        \n",
    "        ligma += B_t\n",
    "\n",
    "        print(\"Coil Field:\", B_z, \"T\")\n",
    "\n",
    "        print(\"Earth Field:\", B_t, \"T\")\n",
    "\n",
    "\n",
    "avg_B_t = ligma / len(I)\n",
    "print(\"Average B_t:\", avg_B_t, \"T\")\n"
   ]
  }
 ],
 "metadata": {
  "kernelspec": {
   "display_name": "Python 3",
   "language": "python",
   "name": "python3"
  },
  "language_info": {
   "codemirror_mode": {
    "name": "ipython",
    "version": 3
   },
   "file_extension": ".py",
   "mimetype": "text/x-python",
   "name": "python",
   "nbconvert_exporter": "python",
   "pygments_lexer": "ipython3",
   "version": "3.12.0"
  }
 },
 "nbformat": 4,
 "nbformat_minor": 2
}

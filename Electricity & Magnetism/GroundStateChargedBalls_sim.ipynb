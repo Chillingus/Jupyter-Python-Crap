{
 "cells": [
  {
   "cell_type": "markdown",
   "id": "2172ba15",
   "metadata": {},
   "source": [
    "# Ground State Configuration of Multiple Charged Balls - Simulation\n",
    "\n",
    "## Overview\n",
    "\n",
    "\n",
    "Multiple similarly-charged particles confined to a region will repel each other by electrostatic forces, and will seek a spatial arrangement that minimizes their total electrostatic energy. This can lead to interesting configurations that we will explore in this lab. \n",
    "\n",
    "\n",
    "The lab is divided into two portions. In the first portion, we performed experiments with multiple charged balls in a confined region, and determined the minimum-energy configurations for a number of scenarios. \n",
    "In this follow-up, we will now perform detailed simulations to compare with our measurements.\n",
    "\n",
    "\n",
    "## Introduction\n",
    "\n",
    "The potential energy between two point charges $q_1$ and $q_2$ depends on the distance between them, $r_{12}$.\n",
    "If we have a collection of $N$ point charges, all charged to $+q$, then the total potential energy of the system is:\n",
    "\n",
    "$$ U_T = \\frac{q^2}{4\\pi\\epsilon_0} \\displaystyle\\sum_{i<j}^{N} \\left( \\frac{1}{r_{ij}} \\right)$$\n",
    " \n",
    " If the $N$ point charges are confined to some specific region, then they will extert Coulomb forces on each other and seek to repel each other until they find a stable configuration that minimises the total electrostatic energy  of the system. \n",
    " \n",
    " Consider $N$ point charges confined to the interior of a circle of radius $R$. If N is small, then the charges will seek to distribute themselves uniformly around the circumference of the circle, with none at all in the interior. \n",
    " However, as N increases, at some point the minimum-energy configuration will shift to include 1 charge in the very center, and the remaining N-1 around the circumference. \n",
    " Then as N increases further, the number of interior charges will grow and tend to form an inner ring of some size.\n",
    " This leads to interesting configurations as N increases, with series of inner rings forming as N becomes large enough. \n",
    " Some publications are referenced below where several authors have studied this situation in detail. \n",
    "\n",
    "In the previous lab, we made a number of measurements to find (hopefully) the lowest-energy configurations.\n",
    "Now we will perform simulations to study the expected behaviour. \n",
    "\n",
    "\n",
    "### Possible Effects of Induced Polarisation\n",
    "\n",
    "When comparing to experiment, we should be aware \n",
    "that the steel balls we used in the experiment are not perfect point charges. Because they are conducting spheres, the presence of external charge will influence an asymmetric charge distribution (*polarisation*) across the surface of the sphere, attracting opposite charges and repelling like charges. \n",
    "(It is also possible that induced charge localisations on the conducting surfaces of the glass could have a further effect.)\n",
    "As a result, the real steel balls probably will not behave like point charges, in regions close to the balls. \n",
    "A slightly better approximation might be to consider that they could behave like an *electric dipole*, which is what we call an arrangement of 2 equal and opposite point charges separated by some distance $d$.  \n",
    "Although this goes beyond what you have probably covered in lecture, the potential at a distance $r$ from a dipole (of charge $q$ and separation $d$), is approximately given by\n",
    "\n",
    "$$ V_{dipole}(r,\\theta) \\sim \\frac{1}{4\\pi\\epsilon_0}\\frac{qd \\cos\\theta}{r^2} $$\n",
    "\n",
    "where $\\theta$ here is the angle to the point relative to the axis of the dipole.\n",
    "If we ignore the angle $\\theta$, then effectively the potential due to a dipole just goes as $1/r^2$, instead of $1/r$ for a point charge. We will explore this alternative description of the potential at an appropriate point in our simulation studies. \n",
    "\n",
    "\n",
    "\n",
    "## Overview of Simulation Studies\n",
    "\n",
    "In the discussion and code examples that follow, we will show how to define and plot a particular charge configuration, and how to calculate its potential energy.\n",
    "Then we will start by considering just some random charge configurations within a circle, to get a feel for the potential energies. \n",
    "After that, inspired by the symmetry, we will consider cases where all N charges are distributed around the circumference, versus having N-1 around the circumference and 1 in the center; we will compute and compare the potential energy of both these configurations as a function of N. \n",
    "To try to get a better description of our experimental results, we will explore the dipole-based alternative approach to the electric potential, as described above. \n",
    "Then we will look at configurations with large N and explore the structure of the inner ring that develops. \n",
    "Finally, if time permits, we will look at cases with a square instead of circular boundary. \n"
   ]
  },
  {
   "cell_type": "markdown",
   "id": "2cc853ed",
   "metadata": {},
   "source": [
    "## Simulation First Steps: Define and Plot a Charge Configuration; Calculate Potential Energy\n",
    "\n",
    "In the code cells below, we will show how we will define charge configurations as a list of coordinates for each point (since each charge has the same magnitude q, we dont need to specify the charge value at each point, just its location), and how we can plot these configurations to visualise them.\n",
    "Then we define a function that will calculate the potential energy of a collection of charges at specific locations\n",
    "\n",
    "(Note that we will use units here that correspond to: electrostatic constant $k$=1, and charge $q$=1)"
   ]
  },
  {
   "cell_type": "code",
   "execution_count": 2,
   "id": "4871b2dd",
   "metadata": {},
   "outputs": [
    {
     "data": {
      "image/png": "[encoded data removed]",
      "text/plain": [
       "<Figure size 640x480 with 1 Axes>"
      ]
     },
     "metadata": {},
     "output_type": "display_data"
    }
   ],
   "source": [
    "# define and draw a charge configuration\n",
    "\n",
    "#define charges as list of position-coords [[x1,y1],[x2,y2], ... [xN,yN]]\n",
    "# as we assume here that charge q is same at all points\n",
    "\n",
    "# example:\n",
    "test_3_charges = [[0,0],[-0.25,-0.25],[0.5,0.5]]\n",
    "\n",
    "# How to plot a given charge confg\n",
    "import matplotlib.pyplot as plt\n",
    "\n",
    "# plot red circles at each charge location\n",
    "for iq in test_3_charges:\n",
    "    plt.plot(iq[0],iq[1],'ro')  #'ro' plots as red (r) circles (o)\n",
    "\n",
    "# plot on an x,y scale of -1 to +1\n",
    "plt.xlim(-1,+1)\n",
    "plt.ylim(-1,+1)\n",
    "\n",
    "plt.show()"
   ]
  },
  {
   "cell_type": "code",
   "execution_count": 3,
   "id": "ffcd0ea0",
   "metadata": {},
   "outputs": [
    {
     "name": "stdout",
     "output_type": "stream",
     "text": [
      "1.4142135623730951\n",
      "5.185449728701348\n"
     ]
    }
   ],
   "source": [
    "# here we calc the potential energy of a defined charge arrangement\n",
    "\n",
    "# first we will define a function specifically to calculate the distance between two given points\n",
    "# then we will use that to calculate the potential energy for a given set of charge locations\n",
    "\n",
    "import math\n",
    "import numpy as np\n",
    "\n",
    "# calc distance: args passed to func  are the two points' positions, each in the form of 2-elem list [x,y]\n",
    "def calcDistanceBetweenTwoPoints(pos1,pos2):\n",
    "    x1=pos1[0]\n",
    "    y1=pos1[1]\n",
    "    x2=pos2[0]\n",
    "    y2=pos2[1]\n",
    "    dist = math.sqrt((x2-x1)**2+(y2-y1)**2)\n",
    "    return dist\n",
    "\n",
    "# test this\n",
    "testpos1=[1,1]\n",
    "testpos2 = [0,0]\n",
    "print(calcDistanceBetweenTwoPoints(testpos1,testpos2))\n",
    "\n",
    "# now we use this distance function as part of the calculation of the total potential energy of the charge config\n",
    "\n",
    "# calc Pot Energy for collection of charges\n",
    "# for reasons we will explain later, we want to allow an additional arg rn\n",
    "# that can be used to raise the distance parameter to the power of rn in the potential energy calc\n",
    "# rn will default to 1.\n",
    "# But we will see later why we might want to explore cases with rn=2 ....\n",
    "def calcPotentialEnergy(chargeConfig, rn=1):\n",
    "    Utot = 0\n",
    "    # here we consider all charge pairs i & j, without double-counting\n",
    "    for i in range(len(chargeConfig)):\n",
    "        # now for second particle, start at i and go to end\n",
    "        for j in range(i+1,len(chargeConfig)):\n",
    "            #print(i,j)\n",
    "            #print(chargeConfig[i],chargeConfig[j])\n",
    "            dist_ij= calcDistanceBetweenTwoPoints(chargeConfig[i],chargeConfig[j])\n",
    "            #print(dist_ij)\n",
    "            #for each pair, there is contribn to total energy q^2/R_ij\n",
    "            # Also, for reasons we will explain later, \n",
    "            # we will allow the distance value to be raised to the power of input arg rn\n",
    "            # but rn defaults to 1, unless you actively change it when calling the function\n",
    "            Utot = Utot + 1.0/(dist_ij**rn)\n",
    "    return Utot\n",
    "\n",
    "# test this\n",
    "U1 = calcPotentialEnergy(test_3_charges)\n",
    "print(U1)\n",
    "\n"
   ]
  },
  {
   "cell_type": "markdown",
   "id": "9834724b",
   "metadata": {},
   "source": [
    "## Testing Potential Energy of Random Charge Configurations\n",
    "\n",
    "To get started, let's suppose that the charges were just randomly distributed within the confinement region. \n",
    "We can choose a specific N, say N=10, and we consider them confined to a circle of radius R=1.\n",
    "Then we can generate lots of different random charge configurations and calculate the potential energy for each one. \n",
    "This will give us an idea of the possible range of potential energy values.\n",
    "Of course, the preferred charge arrangement will be the one which *minimizes* this total potential energy. \n",
    "\n",
    "As we are sampling many different random charge configurations, we can also keep track of the one which turns out to have the lowest potential energy, and then we can draw it specifically at the end, to see what we found.\n",
    "\n",
    "The code below shows an example of how to do this.\n",
    "\n",
    "What you should see when you run the code below for N=10 charges is that the mean of the potential energy distribution from these random configurations is around 105, and\n",
    "the minimum potential energy probably has a value around 51-53. \n",
    "However, the lowest-energy random configuration will probably not look much like the nicely-arranged configurations that we saw in our experiments. \n",
    "This is because random sampling is an extremely inefficient way to find the minimum of a multi-variable function, so we are very unlikely to come across the optimal configuration just randomly. \n",
    "So our next step will be to consider more specific configurations, inspired by symmetry. "
   ]
  },
  {
   "cell_type": "code",
   "execution_count": 4,
   "id": "195e6b65",
   "metadata": {},
   "outputs": [
    {
     "name": "stdout",
     "output_type": "stream",
     "text": [
      "[[-0.8645208454147822, 0.274278764112052], [-0.20471961346710318, -0.5134610205758634], [-0.4307370099920537, -0.8272395369015463], [0.14680638693898762, 0.09937239152308279], [-0.21747250587240727, 0.6508645907010874], [-0.04395031312570522, -0.11429016501678499], [-0.8717893554224475, 0.14220164416926534], [0.0940389880067047, -0.09010246013378274], [-0.16168148377616232, -0.7842487118111278], [0.5773990615412163, -0.23121766571527302]]\n"
     ]
    },
    {
     "data": {
      "image/png": "[encoded data removed]",
      "text/plain": [
       "<Figure size 640x480 with 1 Axes>"
      ]
     },
     "metadata": {},
     "output_type": "display_data"
    },
    {
     "data": {
      "image/png": "[encoded data removed]",
      "text/plain": [
       "<Figure size 640x480 with 1 Axes>"
      ]
     },
     "metadata": {},
     "output_type": "display_data"
    },
    {
     "name": "stdout",
     "output_type": "stream",
     "text": [
      "Mean pot energy =  104.52125522624594\n",
      "Best (minimum) U from random samples = 51.303550082636775\n",
      "Corresponding config is:\n"
     ]
    },
    {
     "data": {
      "image/png": "[encoded data removed]",
      "text/plain": [
       "<Figure size 640x480 with 1 Axes>"
      ]
     },
     "metadata": {},
     "output_type": "display_data"
    }
   ],
   "source": [
    "import random\n",
    "import numpy as np\n",
    "\n",
    "# we define the following function that will locate N charge randomly inside a circle radius R(default=1)\n",
    "def distributeNRandomlyInCircle(N,R=1):\n",
    "    points=[]\n",
    "    for i in range(N):\n",
    "        # we will randomly select and angle and radius for this i point\n",
    "        ri= random.uniform(0,R)\n",
    "        itheta = random.uniform(0,2*math.pi)\n",
    "        # then calc and save [x,y] corresponding to this (r,theta)\n",
    "        xi=ri*math.cos(itheta)\n",
    "        yi=ri*math.sin(itheta)\n",
    "        points.append([xi,yi])\n",
    "    return points\n",
    "\n",
    "# test this - print the results\n",
    "test1 = distributeNRandomlyInCircle(10)\n",
    "print(test1)\n",
    "# and draw them, as in our sample code earlier\n",
    "# plot red circles at each charge location\n",
    "for iq in test1:\n",
    "    plt.plot(iq[0],iq[1],'ro')  #'ro' plots as red (r) circles (o)\n",
    "# plot on an x,y scale of -1 to +1\n",
    "plt.xlim(-1,+1)\n",
    "plt.ylim(-1,+1)\n",
    "plt.show()\n",
    "# Now check yourself that this plot looks like a random distribution within the circle\n",
    "# notice that if you re-run the cell again, you should get a different random distirbution each time\n",
    "\n",
    "# now lets use the power of our computer to generate lots of random configurations like this, \n",
    "# and calculate the potential energy of each one\n",
    "\n",
    "# we will do 10000 random configs (for N=10 say) and get U for each\n",
    "# and actually we can keep track of which of these random configs turned out to be best (ie min Energy)!\n",
    "best_config=[] # we will update this as we check each random one\n",
    "bestU = 1e6 # start at very high number, then keep current-lowest as we proceed to sample\n",
    "N_test=10\n",
    "U_random = []\n",
    "for i in range(10000):\n",
    "    ipoints = distributeNRandomlyInCircle(N_test)\n",
    "    Ui = calcPotentialEnergy(ipoints)\n",
    "    U_random.append(Ui)\n",
    "    # now check if this config has lower U than best config so far\n",
    "    if(Ui<bestU):\n",
    "        # then its better, so update best-so-far to this one\n",
    "        bestU=Ui\n",
    "        best_config = ipoints\n",
    "\n",
    "#print(U_random)\n",
    "\n",
    "# a good way to visualise this is to histogram the range of potential energy values U that are obtained\n",
    "# from all these random configurations:\n",
    "plt.hist(U_random,50,(0,200))  # this does 50 histogram bins from 0 to 200\n",
    "plt.show()\n",
    "\n",
    "# and lets draw the best config of all these random ones\n",
    "print(\"Mean pot energy = \",np.mean(U_random))\n",
    "print(\"Best (minimum) U from random samples =\",bestU)\n",
    "print(\"Corresponding config is:\")\n",
    "for iq in best_config:\n",
    "    plt.plot(iq[0],iq[1],'ro')  #'ro' plots as red (r) circles (o)\n",
    "# plot on an x,y scale of -1 to +1\n",
    "plt.xlim(-1,+1)\n",
    "plt.ylim(-1,+1)\n",
    "plt.show()\n",
    "\n",
    "\n",
    "\n"
   ]
  },
  {
   "cell_type": "markdown",
   "id": "a8ef0f2b",
   "metadata": {},
   "source": [
    "## Studying Circular Configurations\n",
    "\n",
    "Now we will study specifically circular configurations, and possibly have one point in the center. \n",
    "Let's start with N=5. \n",
    "We will consider first the configuration where all 5 points are distributed equally around the circumference of the circle, and then the configuration where 1 is in the center and the remaining 4 are around the circumference.\n",
    "Which of these two options turns out to have the lower potential energy?\n",
    "\n",
    "The code below shows how to do this."
   ]
  },
  {
   "cell_type": "code",
   "execution_count": 5,
   "id": "8b696dad",
   "metadata": {},
   "outputs": [
    {
     "name": "stdout",
     "output_type": "stream",
     "text": [
      "[[1.0, 0.0], [-1.0, 1.2246467991473532e-16]]\n",
      "[[1.0, 0.0], [-0.4999999999999998, 0.8660254037844387], [-0.5000000000000004, -0.8660254037844385]]\n",
      "[[1.0, 0.0], [6.123233995736766e-17, 1.0], [-1.0, 1.2246467991473532e-16], [-1.8369701987210297e-16, -1.0]]\n",
      "[[1.0, 0.0], [6.123233995736766e-17, 1.0], [-1.0, 1.2246467991473532e-16], [-1.8369701987210297e-16, -1.0], [0, 0]]\n"
     ]
    },
    {
     "data": {
      "image/png": "[encoded data removed]",
      "text/plain": [
       "<Figure size 640x480 with 1 Axes>"
      ]
     },
     "metadata": {},
     "output_type": "display_data"
    },
    {
     "name": "stdout",
     "output_type": "stream",
     "text": [
      "U5: 5-circ =  6.881909602355868\n",
      "U5: 4-circ, 1 ctr =  7.82842712474619\n"
     ]
    }
   ],
   "source": [
    "# it is convenient for us to define a function to space N points  equally around a circle\n",
    "# with an option to choose radius of circle (defaults to 1), and offset for first point if desired (default 0)\n",
    "\n",
    "def distributeNAroundCircle(N,R=1,offset=0):\n",
    "    points=[]  \n",
    "    interval = 2*math.pi/N\n",
    "    for i in range(N):\n",
    "        thetai = offset+ (i*interval)\n",
    "        xi = R*math.cos(thetai)\n",
    "        yi = R*math.sin(thetai)\n",
    "        points.append([xi,yi])  \n",
    "    return points\n",
    "\n",
    "# test this:\n",
    "print(distributeNAroundCircle(2))\n",
    "print(distributeNAroundCircle(3))\n",
    "print(distributeNAroundCircle(4))\n",
    "\n",
    "# consider 5 charges, all equally around circumference\n",
    "charges_5_circ = distributeNAroundCircle(5)\n",
    "\n",
    "# now we will consider 5 charges, but 4 around cicrumference and 1 in center. \n",
    "#We can conveniently build this as follow\n",
    "charges_4_circ =  distributeNAroundCircle(4)\n",
    "center = [0,0]\n",
    "charges_5_ctr = charges_4_circ\n",
    "charges_5_ctr.append(center)\n",
    "\n",
    "print(charges_5_ctr)\n",
    "# draw it to visualise\n",
    "for iq in charges_5_ctr:\n",
    "    plt.plot(iq[0],iq[1],'ro')  #'ro' plots as red (r) circles (o)\n",
    "plt.xlim(-1,+1)\n",
    "plt.ylim(-1,+1)\n",
    "plt.show()\n",
    "\n",
    "# now compare potential energy of these two configs\n",
    "U5a = calcPotentialEnergy(charges_5_circ)\n",
    "U5b = calcPotentialEnergy(charges_5_ctr)\n",
    "print(\"U5: 5-circ = \",U5a)\n",
    "print(\"U5: 4-circ, 1 ctr = \",U5b)\n",
    "\n"
   ]
  },
  {
   "cell_type": "markdown",
   "id": "955d159e",
   "metadata": {},
   "source": [
    "## Activity: Explore Circular/Central Arrangements for Different N\n",
    "\n",
    "Using the code above as an example, you should now explore values of N from N=5 to N=13\n",
    "For each N, consider the two cases where (a) all N points are arranged equally around the circumference of the circle; (b) N-1 are arranged equally around the circumference, and 1 point is in the center\n",
    "\n",
    "Find the potential energy of these two configurations for each N, and compare them. \n",
    "(As a cross-check, you should find that the configuration with lowest potential energy for N=10 has U=38.62\n",
    "and that for N=11, the lowest energy configuration has U=48.57)\n",
    "\n",
    "For small values of N, you should find that the arrangement with all N around the circumference has the lower energy, but this will change at a certain point. \n",
    "At what value of N do you find that the lowest-energy configuration corresponds to having 1 point in the center and N-1 around the circumference?\n",
    "\n",
    "How does this N value compare to what you found from your previous experimental measurements?\n",
    "\n",
    "<br>\n",
    "<span style=\"color:red;font-weight:bold;\">\n",
    "After you have completed this activity, it's a good idea check in with the instructor/TA before proceeding. \n",
    "</span>"
   ]
  },
  {
   "cell_type": "code",
   "execution_count": 6,
   "id": "39906714",
   "metadata": {},
   "outputs": [],
   "source": [
    "# your code to explore different N should go here\n",
    "# re-use the above defined functions as much as possible!"
   ]
  },
  {
   "cell_type": "markdown",
   "id": "2e0e40dc",
   "metadata": {},
   "source": [
    "## Next Level Simulation: Dipole-Based Approach to Potential\n",
    "\n",
    "You should have found from your above study that the value of N where it is preferred that one charge goes into the center is N=12. \n",
    "But in our experiments, we found that this happened in practice for smaller N values than that. \n",
    "So perhaps the difference is due to the effect described in the Introduction, where the steel balls are not really point charges, and as a result of induced charge distributions on the surface, the point-charge case is not accurate in the region close to the steel balls. \n",
    "\n",
    "In that case, we may be able to get a better simulation by approximating the steel balls as a collection of dipoles. \n",
    "We will ignore possible dipole orientations for now, and just focus on the change in the distance-dependence of the potential, from $1/r$ for a point charge to $1/r^2$ for a dipole. \n",
    "We can simulate this effect using the distance parameter **rn** that we built into our original potential  -- we get the dipole case when we evaluate it with rn=2\n",
    "\n",
    "Let's try this below for the case N=10. In this approach, which configuration has the lower energy when N=10?"
   ]
  },
  {
   "cell_type": "code",
   "execution_count": 7,
   "id": "27c04f8d",
   "metadata": {},
   "outputs": [
    {
     "name": "stdout",
     "output_type": "stream",
     "text": [
      "With dipole approx, U 10 circ =  41.25000000000001\n",
      "and U 10  as (9,1) =  39.0\n"
     ]
    }
   ],
   "source": [
    "# now we explore the dipole approximation for the potential instead\n",
    "# we will do this for N=10\n",
    "\n",
    "charges_10_circ = distributeNAroundCircle(10)\n",
    "# now do 1 in ctr, 9 around circ\n",
    "charges_10_ctr = distributeNAroundCircle(9) # do 9 around circ first\n",
    "charges_10_ctr.append([0,0]) # then add center specifically\n",
    "\n",
    "rn_dipole=2\n",
    "U10_circ = calcPotentialEnergy(charges_10_circ,rn_dipole)\n",
    "U10_ctr = calcPotentialEnergy(charges_10_ctr,rn_dipole)\n",
    "print(\"With dipole approx, U 10 circ = \",U10_circ)\n",
    "print(\"and U 10  as (9,1) = \",U10_ctr)\n"
   ]
  },
  {
   "cell_type": "markdown",
   "id": "061cc661",
   "metadata": {},
   "source": [
    "## Activity: Explore Dipole Approach for different N\n",
    "\n",
    "Using the code above as an example, you should now explore values of N from N=5 to N=13, *using the dipole approach for the potential energy calculation*. \n",
    "For each N, consider the two cases where (a) all N points are arranged equally around the circumference of the circle; (b) N-1 are arranged equally around the circumference, and 1 point is in the center\n",
    "\n",
    "Find the potential energy of these two configurations for each N, and compare them. \n",
    "(As a cross-check, you should find that the configuration with lowest potential energy for N=12 has U=66)\n",
    "\n",
    "Still for small values of N, you should find that the arrangement with all N around the circumference has the lower energy, but this will change at a certain point. \n",
    "Now using the dipole approach, at what value of N do you find that the lowest-energy configuration corresponds to having 1 point in the center and N-1 around the circumference?\n",
    "\n",
    "Does this N value get closer than the point-charge case to what you found from your previous experimental measurements? \n",
    "Does it agree completely?\n",
    "\n",
    "<br>\n",
    "<span style=\"color:red;font-weight:bold;\">\n",
    "After you have completed this activity, it's a good idea check in with the instructor/TA before proceeding. \n",
    "</span>"
   ]
  },
  {
   "cell_type": "code",
   "execution_count": 8,
   "id": "c98ffee4",
   "metadata": {},
   "outputs": [],
   "source": [
    "# your code should  go in here \n",
    "# as always, try to re-use already-defined functions as much as possible"
   ]
  },
  {
   "cell_type": "markdown",
   "id": "e1df80bc",
   "metadata": {},
   "source": [
    "## Toward an Even More Realistic Simulation\n",
    "\n",
    "You should find that this dipole-based approach predicts that the two alternative configurations have equal energy now for N=8. However, our experimental measurements had an even lower value than this.  \n",
    "\n",
    "Presumably, we could get an even more accurate simulation if we considered the *orientation* of the dipoles. Our simulation above essentially ignored the orientation, but in reality we would expect the dipole orientations to interact with each other and prefer a lower-energy configuration when they align with each other in a particular way. \n",
    "In principle this could be done also in simulation, but we will not go into those complications here. \n"
   ]
  },
  {
   "cell_type": "markdown",
   "id": "caf21827",
   "metadata": {},
   "source": [
    "## Extra Credit: Configurations with Large N: Structure of Inner Ring\n",
    "\n",
    "As the number of charges N increases, we probably saw in our experiments that eventually there will not just be 1 charge in the center, but rather there will form an inner ring of multiple charges. \n",
    "In this case, there will be two parameters to consider: the number of charges $n_1$ in the inner ring, relative to the total $N$; and the radius $r_1$ of the inner ring relative to the outer ring $R=1$.\n",
    "\n",
    "For **extra credit**, you could attempt to find the combination of $n_1$ and $r_1$ that gives the lowest energy configuration for larger N.\n",
    "\n",
    "In the case of N=20, for example, it is found that the inner ring should have $n_1$=3 charges, while an inner ring number of $n_1=4$ is preferred for N=22-24, rising to $n_1=5$ for N=25-29.\n",
    "Reference 3 (Kurmela paper) below shows the results obtained for $n_1$ from their calculation of the optimal configuration for a large range of N. \n",
    "Ref 2b includes the values of the inner ring radius $r_1$ for some cases of $N$.\n",
    "At least for the point-charge case, you should be able to reproduce these results. \n",
    "\n",
    "You could also try using the dipole-based approach, and see if your predicted inner ring radii are similar to what was seen experimentally for large N."
   ]
  },
  {
   "cell_type": "markdown",
   "id": "8e6c46b8",
   "metadata": {},
   "source": [
    "## Configurations with a Square Boundary\n",
    "\n",
    "If time permits, the student should try to simulate the case where the fixed outer boundary is a square, rather than a circle. \n",
    "It is expected that for small N, the lowest energy configuration should still correspond to all N being on the boundary. But it would be interesting to see the predictions for the inner structure as N increases. "
   ]
  },
  {
   "cell_type": "markdown",
   "id": "82509346",
   "metadata": {},
   "source": [
    "## Assignment\n",
    "\n",
    "The Assignment is a lab report summarizing both portions of this lab. \n",
    "You should describe the experimental apparatus used to make the measurements, and show the results you obtained.\n",
    "Then compare these results with the output from your simulation studies today, and discuss what has  been learned (eg, the importance of the fact that the steel balls are not point charges, when it comes to the details of the lowest-energy configurations)\n",
    "\n",
    "\n",
    "\n",
    "\n",
    "## References\n",
    "\n",
    "\n",
    "   * A. A. Berezin, Nature 315 104 (1985): https://www.nature.com/articles/317208c0\n",
    "   \n",
    "   *  L T Wille and J Vennik 1985 J. Phys. A: Math. Gen. 18 L1113:\n",
    "   https://iopscience.iop.org/article/10.1088/0305-4470/18/17/009\n",
    "   ; L T Wille and J Vennik 1986 J. Phys. A: Math. Gen. 19 1983: \n",
    "   https://iopscience.iop.org/article/10.1088/0305-4470/19/10/540\n",
    "   * Kari J Nurmela 1998 J. Phys. A: Math. Gen. 31 1035: https://iopscience.iop.org/article/10.1088/0305-4470/31/3/014\n",
    "   "
   ]
  },
  {
   "cell_type": "code",
   "execution_count": null,
   "id": "807b34d8",
   "metadata": {},
   "outputs": [],
   "source": []
  }
 ],
 "metadata": {
  "kernelspec": {
   "display_name": "Python 3 (ipykernel)",
   "language": "python",
   "name": "python3"
  },
  "language_info": {
   "codemirror_mode": {
    "name": "ipython",
    "version": 3
   },
   "file_extension": ".py",
   "mimetype": "text/x-python",
   "name": "python",
   "nbconvert_exporter": "python",
   "pygments_lexer": "ipython3",
   "version": "3.12.0"
  }
 },
 "nbformat": 4,
 "nbformat_minor": 5
}

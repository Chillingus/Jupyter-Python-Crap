{
 "cells": [
  {
   "cell_type": "markdown",
   "id": "b31e2431",
   "metadata": {},
   "source": [
    "# Ideal Gas Law: Pressure and Volume\n",
    "\n",
    "In this lab, we will measure how the pressure changes when we change the volume occupied by a gas, and compare our observations to the expectation for an ideal gas.\n",
    "\n",
    "### Pre-Lab Questions\n",
    "\n",
    "1. What is the ideal gas law connecting pressure (P), volume (V), temperature (T), and any other relevant quantities?\n",
    "2. At constant temperature, how do you expect the pressure of an ideal gas to change if the volume is decreased?\n",
    "3. If we consider the quantity 1/P, how is that expected to vary with the volume V? What should be the gradient of a plot of 1/P as a function of V?\n",
    "\n",
    "\n",
    "### Experimental Method\n",
    "\n",
    "First, measure the temperature in the room, as we will need that later for our calculations. \n",
    "Ensure the syringe is connected to the pressure sensor and that you can read the sensor. \n",
    "Set the syringe volume initially to 20 ml, and record the pressure reading from the pressure sensor. \n",
    "Now slowly reduce the volume by a couple of ml, and record the pressure again at this new volume. Repeat this for about 10 measurements, reducing the volume in increments, until you get to about 2-3ml. \n",
    "The syringe volume will not be read automatically, so you will need to enter it manually into the Capstone table. \n",
    "Export the data to a CSV file for subsequent analysis\n",
    "\n",
    "\n",
    "### Data Analysis\n",
    "\n",
    "Plot the pressure data as a function of the volume, and confirm that it broadly follows the pattern one would expect for an ideal gas. \n",
    "For a more detailed analysis, we will need to extract more information from this data. \n",
    "Since we expect the pressure and volume to be inversely related, one approach is to calculate 1/P, and plot 1/P as a function of the volume V. This should give a linear graph, and we can fit a straight line to it, and then extract the gradient of this line. From this gradient value, the measured temperature, and knowledge of the molar gas constant R, you can calculate the number of moles (n) present in the gas.\n",
    "You will need to convert the pressure and volume measurements into appropriate units. \n",
    "At standard temperature and pressure, one mol of an ideal gas is expected to occupy 22.4 liters. \n",
    "Based on this, how many moles do you expect to be present in the initial 20 ml sample of the gas? How does this value compare to the number of moles you obtained from your data? (As usual, you can quanitfy the level of agreement by expressing the difference between expected and observed values as a percentage of the expected value)\n",
    "\n",
    "\n",
    "Overall, how did this real gas compare to the behavior expected for an ideal gas, in terms of pressure and volume changes?\n",
    "Are there any measurements in your data where you perhaps see some deviation from the expected ideal gas behavior?\n",
    "If so, can you explain briefly the physical reason for this?\n",
    "\n",
    "\n",
    "## Assignment\n",
    "\n",
    "Submit a lab report documenting this experiment. \n",
    "Your report should include: \n",
    "   * an Abstract (short overall summary); \n",
    "   * an Introduction describing briefly the ideal gas law and the goal of the experiment:  to test the dependence of pressure on the volume of a gas;  \n",
    "   * a short description of the apparatus and experimental method used; \n",
    "   * the data you obtained and the plots made from it, including the value found for the gradient of 1/P vs V; \n",
    "   * your calculation of the number of moles of gas from the gradient, and independently from knowledge of an ideal gas at standard temperature; \n",
    "   * your conclusions as to how the real gas in this experiment compares to the expected behavior of an ideal gas \n"
   ]
  },
  {
   "cell_type": "code",
   "execution_count": null,
   "id": "0550a022",
   "metadata": {},
   "outputs": [],
   "source": []
  }
 ],
 "metadata": {
  "kernelspec": {
   "display_name": "Python 3 (ipykernel)",
   "language": "python",
   "name": "python3"
  },
  "language_info": {
   "codemirror_mode": {
    "name": "ipython",
    "version": 3
   },
   "file_extension": ".py",
   "mimetype": "text/x-python",
   "name": "python",
   "nbconvert_exporter": "python",
   "pygments_lexer": "ipython3",
   "version": "3.10.9"
  }
 },
 "nbformat": 4,
 "nbformat_minor": 5
}

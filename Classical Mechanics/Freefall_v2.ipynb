{
 "cells": [
  {
   "cell_type": "markdown",
   "id": "976bc437",
   "metadata": {},
   "source": [
    "<center><h1> Phys 2005L Lab: <br> Measuring the Local Acceleration due to Gravity </h1></center>\n",
    "<h2>Introduction</h2>\n",
    "\n",
    "\n",
    "In this lab we will study objects falling under gravity.\n",
    "Our goals are:\n",
    " - to measure the acceleration due to gravity, $g$\n",
    " - to test the hypothesis that *all objects*, regardless of mass, size or shape, experience the same acceleration due to gravity\n",
    "\n",
    "For the experiment, we will drop balls of different weights from a large height. We will use a high-speed camera to record the ball falling, then analyze the video to obtain the position as a function of time. \n",
    "From an analysis of the position vs time data, we can extract a measurement of the acceleration due to gravity. We can also explore the question of whether all objects experience the same acceleration due to gravity.\n",
    "\n",
    "\n"
   ]
  },
  {
   "cell_type": "markdown",
   "id": "359bf4d7",
   "metadata": {},
   "source": [
    "### Pre-Lab Warm-up Exercise\n",
    "\n",
    "Consider an object falling under gravity. \n",
    "We will consider only motion in the vertical ($y$) direction. \n",
    "We will consider the $y$-axis direction to be positive going upward,  and thus the acceleration due to gravity is $-g$. \n",
    "Suppose the object begins with some initial height $y_0$, and some initial velocity $v_0$ along $y$. \n",
    "\n",
    "What is the expression for $y(t)$, the height of the object at some later time $t$?\n",
    "\n",
    "Now consider the sample data below, where the height of the object above the ground is measured at intervals of 0.1s, giving the following datasets. \n",
    "Use the example code below to plot the height as a function of time.\n",
    "What is the initial height of the object in this example?\n",
    "To extract more information, you can fit a quadratic function to this data, \n",
    "as shown in the example code. \n",
    "Assuming the function is of the form: at^2 +bt +c, how do the extracted parameters a,b,c relate to the fundamental parameters of the motion discussed above?\n",
    "\n",
    "In this test dataset, what are the values of the acceleration and of the initial velocity?\n",
    "\n"
   ]
  },
  {
   "cell_type": "code",
   "execution_count": 1,
   "id": "aadbc8e1",
   "metadata": {},
   "outputs": [
    {
     "name": "stdout",
     "output_type": "stream",
     "text": [
      "[-5.09848109  0.23173429  4.95065971]\n",
      "Fitted param a =  -5.098481088306837\n"
     ]
    },
    {
     "data": {
      "image/png": "[encoded data removed]",
      "text/plain": [
       "<Figure size 640x480 with 1 Axes>"
      ]
     },
     "metadata": {},
     "output_type": "display_data"
    }
   ],
   "source": [
    "test_time = [0,0.1,0.2,0.3,0.4,0.5,0.6,0.7,0.8,0.9,1.0]\n",
    "test_height = [4.930987235624798, 4.95337759952138, 4.794670902975914, 4.548672820224848, 4.215721781350154, 3.8137687000766776, 3.257561198862733, 2.5906982881888108, 1.8912209790376122, 1.0111272143641454, 0.09483647998803768]\n",
    "\n",
    "\n",
    "import matplotlib.pyplot as plt\n",
    "plt.plot(test_time,test_height,'ob')\n",
    "\n",
    "# here is how we can fit a quadratic function (polynomial of degree 2) to this data\n",
    "import numpy as np\n",
    "fit_results = np.polyfit(test_time,test_height,deg=2)\n",
    "print(fit_results)\n",
    "# the fit_results here is a list of the fitted polynomial coefficients, in order of largest powers\n",
    "# so for degree=2, this will return [a,b,c] in the fitted ax^2 +bx +c\n",
    "# we can get the values separately as fit_results[i]:\n",
    "print(\"Fitted param a = \",fit_results[0])\n",
    "\n",
    "\n"
   ]
  },
  {
   "cell_type": "markdown",
   "id": "4b27d0f7",
   "metadata": {},
   "source": [
    "### Taking the Data\n",
    "\n",
    "A ball-drop apparatus will be setup, with a  high-speed camera to record the motion of the ball.\n",
    "You will drop a rubber ball, a weighted rubber ball, and a soft foam ball. \n",
    "(Note that you should record the weight and diameter of each ball, as we will use this information in the next lab for a more detailed analysis of the effect of air resistance). The video of each ball drop should be recorded, and will be analyzed to obtain the position as a function of time"
   ]
  },
  {
   "cell_type": "markdown",
   "id": "19cc1af0",
   "metadata": {},
   "source": [
    "### Video Analysis  with Capstone Software\n",
    "\n",
    "Here we will describe briefly how to analyze the video data using the *Capstone software* that is installed on the computers in the physics lab.\n",
    "Other methods of video analysis are also possible; an example of how to use the free software package *ImageJ* is provided in the [Appendix](#AppImageJ)\n",
    "Be aware that the content/format of your final data may vary a little bit depending on the method used, and that this may need to be accounted for before analysing the data. \n",
    "\n",
    "\n",
    "Open the Capstone software package, and select 'Video Analysis'. Then open the video recording of the ball drop. You will need to calibrate the distance scale. The backdrop for the experiment has lights placed 1 meter apart that you can use for calibration. The camera frame rate can be used to convert from frame count to seconds. \n",
    "Select 'Track Object' to follow the ball and obtain the position as a function of time. \n",
    "\n",
    "In selecting the frames for analysis, you may want to cut initial frames before the motion begins,\n",
    "and to stop just before the ball bounces at the bottom. \n",
    "\n",
    "At the end, export your data in CSV format for further analysis. \n",
    "\n",
    "\n"
   ]
  },
  {
   "cell_type": "markdown",
   "id": "2cf58f65",
   "metadata": {},
   "source": [
    "### Reading and Preparing the Data for Analysis\n",
    "\n",
    "After the video analysis, the data for position and time should be exported in CSV (\"comma-separated value\") format. This is a common format used for column/row data.\n",
    "\n",
    "Depending on the content of the exported data, some of the following additional steps may be needed before you can perform your analysis of the data"
   ]
  },
  {
   "cell_type": "code",
   "execution_count": 2,
   "id": "051b8109",
   "metadata": {},
   "outputs": [
    {
     "name": "stdout",
     "output_type": "stream",
     "text": [
      "['\\ufeff\"Time (s) Run #1\"', '0.767', '0.800', '0.833', '0.867', '0.900', '0.933', '0.967', '1.000', '1.033', '1.067', '1.100', '1.133', '1.167', '1.200', '1.233', '1.267', '1.300', '1.333', '1.367', '1.400', '1.433', '1.467', '1.500', '1.533', '1.567', '1.600', '1.633', '1.667', '1.700', '1.733', '1.767']\n",
      "['y-Position, Object #4 (m) Run #1', '5.08', '5.06', '5.04', '5.02', '4.98', '4.94', '4.86', '4.79', '4.70', '4.60', '4.50', '4.39', '4.25', '4.12', '3.96', '3.80', '3.62', '3.45', '3.23', '3.03', '2.81', '2.57', '2.32', '2.08', '1.81', '1.54', '1.25', '0.96', '0.64', '0.33', '0.02']\n",
      "32\n",
      "['0.767', '0.800', '0.833', '0.867', '0.900', '0.933', '0.967', '1.000', '1.033', '1.067', '1.100', '1.133', '1.167', '1.200', '1.233', '1.267', '1.300', '1.333', '1.367', '1.400', '1.433', '1.467', '1.500', '1.533', '1.567', '1.600', '1.633', '1.667', '1.700', '1.733', '1.767']\n",
      "['5.08', '5.06', '5.04', '5.02', '4.98', '4.94', '4.86', '4.79', '4.70', '4.60', '4.50', '4.39', '4.25', '4.12', '3.96', '3.80', '3.62', '3.45', '3.23', '3.03', '2.81', '2.57', '2.32', '2.08', '1.81', '1.54', '1.25', '0.96', '0.64', '0.33', '0.02']\n",
      "[0.767, 0.8, 0.833, 0.867, 0.9, 0.933, 0.967, 1.0, 1.033, 1.067, 1.1, 1.133, 1.167, 1.2, 1.233, 1.267, 1.3, 1.333, 1.367, 1.4, 1.433, 1.467, 1.5, 1.533, 1.567, 1.6, 1.633, 1.667, 1.7, 1.733, 1.767]\n",
      "[5.08, 5.06, 5.04, 5.02, 4.98, 4.94, 4.86, 4.79, 4.7, 4.6, 4.5, 4.39, 4.25, 4.12, 3.96, 3.8, 3.62, 3.45, 3.23, 3.03, 2.81, 2.57, 2.32, 2.08, 1.81, 1.54, 1.25, 0.96, 0.64, 0.33, 0.02]\n",
      "[0.0, 0.03300000000000003, 0.06599999999999995, 0.09999999999999998, 0.133, 0.16600000000000004, 0.19999999999999996, 0.23299999999999998, 0.2659999999999999, 0.29999999999999993, 0.3330000000000001, 0.366, 0.4, 0.43299999999999994, 0.4660000000000001, 0.4999999999999999, 0.533, 0.566, 0.6, 0.6329999999999999, 0.666, 0.7000000000000001, 0.733, 0.7659999999999999, 0.7999999999999999, 0.8330000000000001, 0.866, 0.9, 0.9329999999999999, 0.9660000000000001, 0.9999999999999999]\n",
      "[5.08, 5.06, 5.04, 5.02, 4.98, 4.94, 4.86, 4.79, 4.7, 4.6, 4.5, 4.39, 4.25, 4.12, 3.96, 3.8, 3.62, 3.45, 3.23, 3.03, 2.81, 2.57, 2.32, 2.08, 1.81, 1.54, 1.25, 0.96, 0.64, 0.33, 0.02]\n"
     ]
    }
   ],
   "source": [
    "\n",
    "# create the arrays that will hold the TIme & Position data\n",
    "Time = []\n",
    "Position = []\n",
    "\n",
    "## The data should have been exported as a CSV (\"Comma-separated value\") file\n",
    "## this is a common format for column/row data, and there are libraries to read it in python\n",
    "import csv\n",
    "\n",
    "#with open('ball1.csv', 'r') as file:\n",
    "with open('FreeFall_Lab/Weighted Ball.csv', 'r') as file:\n",
    "#with open('FreeFall_Lab/Unweighted Ball.csv', 'r') as file:\n",
    "#with open('FreeFall_Lab/Light Ball.csv', 'r') as file:\n",
    "#with open('FreeFall_Lab/Foam Ball.csv', 'r') as file:\n",
    "\n",
    "    reader = csv.reader(file)\n",
    "    for row in reader:\n",
    "        \n",
    "        #Take only the Y position data, based on the index of its column\n",
    "        Position.append(row[1])\n",
    "        \n",
    "        #Take only the Time data\n",
    "        Time.append(row[0])\n",
    "        \n",
    "#check what we just read:\n",
    "print(Time)\n",
    "print(Position)\n",
    "\n",
    "print(len(Position))\n",
    "\n",
    "# Probably you will see that the first entry in each array is just the Header telling us the name of the column\n",
    "# We dont want this - we just want \n",
    "# we can drop this header entry by using *list slicing*\n",
    "# the syntax for this is:   new_list = old_list[new_first_index:new_last_index]\n",
    "# and if we leave eg 'new_last_index' blank, it will default to the end of the array\n",
    "\n",
    "# so if we want to drop the first entry only:\n",
    "Time = Time[1:]\n",
    "Position = Position[1:]\n",
    "\n",
    "# It may be the same case that the first few entries in your data table correspond to video frames before the ball actually started moving\n",
    "# In that case, they dont correspond to physical motion, so we should drop them before analysis\n",
    "# eg if we wanted to drop the first 3 frames, we could do:\n",
    "#Time = Time[3:]\n",
    "#Position = Position[3:]\n",
    "\n",
    "# It is also possible that the last few entries in your data may correspond to video frames after the ball bounces\n",
    "# this part of the motion doesnt correspond to freefall, so we wont try to analyse it\n",
    "# in that case, we could drop eg the last 4 frames by:\n",
    "\n",
    "#Time = Time[:-4]\n",
    "#Position = Position[:-4]\n",
    "#print(len(Position)) # to check how many frames still remain\n",
    "\n",
    "\n",
    "#Make sure you do any slicing identically  to both Position and Time arrays, so they are always in synch!\n",
    "\n",
    "# print again to check what we have done:\n",
    "print(Time)\n",
    "print(Position)\n",
    "\n",
    "# The CSV data may have been exported in the form of a 'string' (meaning a \"string of characters\") rather than a number\n",
    "# if that is so, you may see quotation marks around each entry when you print it\n",
    "# in that case, we will need to explicitly convert these entries into numbers ('floats' = floating-point numbers)\n",
    "\n",
    "# a convenient way to do this is:\n",
    "Time = [float(t) for t in Time]\n",
    "Position = [float(y) for y in Position]\n",
    "\n",
    "# print again to check what we have done:\n",
    "print(Time)\n",
    "print(Position)\n",
    "\n",
    "# It is likely that the video was started before the ball was dropped, so the time reading for the start of motion\n",
    "# is probably not zero. It would be nice to set it to zero\n",
    "# we can do this by subtracting the offset, ie the first time value Time[0]\n",
    "Time = [t-Time[0] for t in Time]\n",
    "\n",
    "\n",
    "# print again to check what we have done:\n",
    "print(Time)\n",
    "print(Position)\n",
    "\n",
    "\n",
    "# If your time data is still in the form of *frame count*, rather than seconds\n",
    "# then you need to convert it to seconds as follows:\n",
    "# frames_per_second = 30\n",
    "# Time_in_sec = [ t_in_frames/frames_per_second for t_in_frames in Time]\n",
    "\n",
    "\n",
    "# If your position data is still in the form of *pixels*, rather than meters\n",
    "# you could convert to meters as follows: (adjust the numbers as needed)\n",
    "# pixel_offset = 100 \n",
    "# pixels_per_m = 254\n",
    "# Position_in_meters = [(ypix - pixel_offset)/pixels_per_m for ypix in Position]\n",
    "\n",
    "\n"
   ]
  },
  {
   "cell_type": "markdown",
   "id": "6c882aac",
   "metadata": {},
   "source": [
    "### Analysing the Data\n",
    "\n",
    "Now that you have the data in the correct format, you can analyse it. Use the example code in the initial Warm-up Exercise above to help you plot the position of each ball as a function of time. By fitting the appropriate function, obtain the parameters describing the data, and relate them to the physical motion as above. "
   ]
  },
  {
   "cell_type": "markdown",
   "id": "d7ddbdd1",
   "metadata": {},
   "source": [
    "### Interpretation, Sources of Error, and Conclusions\n",
    "\n",
    "What did you find for the acceleration (assumed constant) of each ball?\n",
    "Which of these might approximate the true value of $g$, and what is the main reason why some others do not?\n",
    "\n",
    "For the second goal, to test the hypothesis that all objects experience the same acceleration due to gravity,\n",
    "what is your conclusion based on this experiment?\n",
    "\n",
    "What are potential sources of error for this experiment?\n",
    "(We are not asking for a detailed quantitative error analysis, just to consider where errors may arise)"
   ]
  },
  {
   "cell_type": "markdown",
   "id": "1146bf81",
   "metadata": {},
   "source": [
    "## Assignment\n",
    "\n",
    "Submit a **lab report** for this experiment. \n",
    "<br>\n",
    "Your report should include a short introduction and motivation for the experiment, and a description of how the experiment was performed. It should include the data that you obtained, the plots and the extracted fit parameters, and how the fit parameters relate to the physical motion. \n",
    "Include a short discussion of potential sources of error in this experiment.\n",
    "Give your conclusions regarding the measurement of $g$, and the test of the hypothesis that all objects experience the same acceleration due to gravity. \n",
    "\n",
    "You are encouraged to discuss your analysis, results and interpretation with other group members, \n",
    "but your submitted lab report should be your own work. \n",
    "\n",
    "Refer to the Lab Report Guidance document on Canvas for more information on how to structure the lab report."
   ]
  },
  {
   "cell_type": "markdown",
   "id": "ff3bd3af",
   "metadata": {},
   "source": [
    "### Appendix: Video Analysis with ImageJ {#AppImageJ}\n",
    "\n",
    "ImageJ is a free software package that can be used for video analysis.\n",
    "\n",
    "To find the path of the ball, first open your video in imageJ by dragging and dropping the file onto the main window. Before doing any tracking, we first need to find our conversion factor from pixels to meters. This can be done very easily by selecting the \"straight\" tool and drawing a line between two of the white bands in the image. Then select \"Analyze>Measure\" and read off the length value. To make the object easier to track, we will go to \"Image>Adjust>Canvas Size\" Then enter a width number (about 100 should do). Make sure position is set to center and press ok. Play the video and make sure the ball is never out of frame. If it is, re-open the video and use a larger value. Now we need to apply a threshold to the image. We do this by going to \"Image>Adjust>Threshold\". Experiment with different methods and threshold values until the ball is the only colored object in the video (using method Huang with values 19 and 255 should produce good results, but will still require some changes depending on the video). Once you have found a good threshold click \"Set\" and then \"Apply\", uncheck the box \"Calculate threshold for each image\" and then press OK. We are now ready to track the motion of the ball. Select \"Plugins>Tracking>TrackMate, if it asks to swap Z and T press ok. Since we have already cropped our image, go ahead and click \"next\". Now change the detector method to \"Thresholding detector\" and click next. Select \"Preview\", if you have applied a good threshold earlier, you should see that only 1 object has been detected. Click next. For \"Initial Thresholding\", make sure the entire range is selected and click next. No filtering is needed, so click next. Selected the \"Kalman\" tracking method and click next. The default parameters are fine for our case, so click next. No filters are needed, click next. Now select the \"Tracks\" button and click \"Export as CSV\".\n",
    "\n"
   ]
  }
 ],
 "metadata": {
  "kernelspec": {
   "display_name": "Python 3 (ipykernel)",
   "language": "python",
   "name": "python3"
  },
  "language_info": {
   "codemirror_mode": {
    "name": "ipython",
    "version": 3
   },
   "file_extension": ".py",
   "mimetype": "text/x-python",
   "name": "python",
   "nbconvert_exporter": "python",
   "pygments_lexer": "ipython3",
   "version": "3.12.0"
  }
 },
 "nbformat": 4,
 "nbformat_minor": 5
}
